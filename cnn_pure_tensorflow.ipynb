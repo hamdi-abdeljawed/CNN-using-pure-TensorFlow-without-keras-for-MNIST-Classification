{
 "cells": [
  {
   "cell_type": "code",
   "execution_count": null,
   "metadata": {
    "id": "zMHj4SLErCRa"
   },
   "outputs": [
    {
     "name": "stderr",
     "output_type": "stream",
     "text": [
      "2024-12-21 08:39:07.711700: I external/local_tsl/tsl/cuda/cudart_stub.cc:31] Could not find cuda drivers on your machine, GPU will not be used.\n",
      "2024-12-21 08:39:11.542756: E external/local_xla/xla/stream_executor/cuda/cuda_dnn.cc:9261] Unable to register cuDNN factory: Attempting to register factory for plugin cuDNN when one has already been registered\n",
      "2024-12-21 08:39:11.543016: E external/local_xla/xla/stream_executor/cuda/cuda_fft.cc:607] Unable to register cuFFT factory: Attempting to register factory for plugin cuFFT when one has already been registered\n",
      "2024-12-21 08:39:11.921681: E external/local_xla/xla/stream_executor/cuda/cuda_blas.cc:1515] Unable to register cuBLAS factory: Attempting to register factory for plugin cuBLAS when one has already been registered\n",
      "2024-12-21 08:39:12.961602: I external/local_tsl/tsl/cuda/cudart_stub.cc:31] Could not find cuda drivers on your machine, GPU will not be used.\n",
      "2024-12-21 08:39:12.966807: I tensorflow/core/platform/cpu_feature_guard.cc:182] This TensorFlow binary is optimized to use available CPU instructions in performance-critical operations.\n",
      "To enable the following instructions: AVX2 FMA, in other operations, rebuild TensorFlow with the appropriate compiler flags.\n",
      "2024-12-21 08:39:21.729928: W tensorflow/compiler/tf2tensorrt/utils/py_utils.cc:38] TF-TRT Warning: Could not find TensorRT\n",
      "/usr/lib/python3/dist-packages/scipy/__init__.py:146: UserWarning: A NumPy version >=1.17.3 and <1.25.0 is required for this version of SciPy (detected version 1.26.4\n",
      "  warnings.warn(f\"A NumPy version >={np_minversion} and <{np_maxversion}\"\n"
     ]
    }
   ],
   "source": [
    "import tensorflow as tf\n",
    "import numpy as np\n",
    "\n",
    "# 1. Load and Prepare MNIST Data\n",
    "def load_mnist():\n",
    "    \"\"\"Loads and preprocesses the MNIST dataset.\"\"\"\n",
    "    (x_train, y_train), (x_test, y_test) = tf.keras.datasets.mnist.load_data()\n",
    "\n",
    "    # Normalize pixel values to [0, 1]\n",
    "    x_train = x_train.astype(\"float32\") / 255.0\n",
    "    \n",
    "    x_test = x_test.astype(\"float32\") / 255.0\n",
    "\n",
    "    # Reshape to (batch_size, height, width, channels)\n",
    "    x_train = np.expand_dims(x_train, axis=-1)  # Add channel dimension\n",
    "    x_test = np.expand_dims(x_test, axis=-1)    # Add channel dimension\n",
    "\n",
    "    # Convert labels to one-hot encoding\n",
    "    y_train = tf.one_hot(y_train, depth=10)\n",
    "    y_test = tf.one_hot(y_test, depth=10)\n",
    "\n",
    "    return x_train, y_train, x_test, y_test"
   ]
  },
  {
   "cell_type": "code",
   "execution_count": null,
   "metadata": {
    "id": "wP8VzKEdrERM"
   },
   "outputs": [],
   "source": [
    "# 2. Define Model Parameters\n",
    "LEARNING_RATE = 0.001\n",
    "BATCH_SIZE = 128\n",
    "EPOCHS = 10\n",
    "INPUT_SHAPE = (28, 28, 1)  # MNIST input image shape\n",
    "NUM_CLASSES = 10  # 10 Digits 0-9\n",
    "\n",
    "\n",
    "# 3. Create TensorFlow Variables for Weights and Biases\n",
    "def initialize_weights_and_biases():\n",
    "    \"\"\"Initializes the weights and biases for the CNN.\"\"\"\n",
    "\n",
    "    # Convolutional Layer 1: 32 filters of size 3x3\n",
    "    W_conv1 = tf.Variable(tf.random.normal([3, 3, 1, 32], stddev=0.1))  # (height, width, input channels, output channels)\n",
    "    b_conv1 = tf.Variable(tf.random.normal([32], stddev=0.1))\n",
    "\n",
    "    # Convolutional Layer 2: 64 filters of size 3x3\n",
    "    W_conv2 = tf.Variable(tf.random.normal([3, 3, 32, 64], stddev=0.1))\n",
    "    b_conv2 = tf.Variable(tf.random.normal([64], stddev=0.1))\n",
    "\n",
    "    # Fully Connected Layer 1:\n",
    "    # Flattened output of the convolutional layers -> 128 neurons\n",
    "    W_fc1 = tf.Variable(tf.random.normal([7 * 7 * 64, 128], stddev=0.1))  # after pooling, size becomes 7x7x64\n",
    "    b_fc1 = tf.Variable(tf.random.normal([128], stddev=0.1))\n",
    "\n",
    "    # Fully Connected Layer 2 (Output Layer) : 128 neurons -> 10 classes\n",
    "    W_fc2 = tf.Variable(tf.random.normal([128, NUM_CLASSES], stddev=0.1))\n",
    "    b_fc2 = tf.Variable(tf.random.normal([NUM_CLASSES], stddev=0.1))\n",
    "\n",
    "    return W_conv1, b_conv1, W_conv2, b_conv2, W_fc1, b_fc1, W_fc2, b_fc2"
   ]
  },
  {
   "cell_type": "code",
   "execution_count": null,
   "metadata": {
    "id": "p9xNqtpAuk_1"
   },
   "outputs": [],
   "source": [
    "# 4. Define the CNN Model\n",
    "def cnn_model(x, W_conv1, b_conv1, W_conv2, b_conv2, W_fc1, b_fc1, W_fc2, b_fc2):\n",
    "    \"\"\"Defines the CNN architecture.\"\"\"\n",
    "\n",
    "    # Convolutional Layer 1 with ReLU activation, max pool\n",
    "    conv1 = tf.nn.conv2d(x, W_conv1, strides=[1, 1, 1, 1], padding=\"SAME\")  # padding SAME to keep same height and width\n",
    "    conv1 = tf.nn.bias_add(conv1, b_conv1)\n",
    "    conv1 = tf.nn.relu(conv1)\n",
    "    pool1 = tf.nn.max_pool(conv1, ksize=[1, 2, 2, 1], strides=[1, 2, 2, 1], padding=\"SAME\")  # Pooling reduces dimension\n",
    "\n",
    "    # Convolutional Layer 2 with ReLU activation, max pool\n",
    "    conv2 = tf.nn.conv2d(pool1, W_conv2, strides=[1, 1, 1, 1], padding=\"SAME\")\n",
    "    conv2 = tf.nn.bias_add(conv2, b_conv2)\n",
    "    conv2 = tf.nn.relu(conv2)\n",
    "    pool2 = tf.nn.max_pool(conv2, ksize=[1, 2, 2, 1], strides=[1, 2, 2, 1], padding=\"SAME\")\n",
    "\n",
    "    # Flatten the output of pool2\n",
    "    flat_out = tf.reshape(pool2, [-1, 7 * 7 * 64])\n",
    "\n",
    "    # Fully Connected Layer 1 (dense layer) with ReLU activation\n",
    "    fc1 = tf.matmul(flat_out, W_fc1) + b_fc1\n",
    "    fc1 = tf.nn.relu(fc1)\n",
    "\n",
    "    # Fully Connected Layer 2 (Output Layer)\n",
    "    out = tf.matmul(fc1, W_fc2) + b_fc2\n",
    "\n",
    "    return out\n"
   ]
  },
  {
   "cell_type": "code",
   "execution_count": null,
   "metadata": {
    "id": "ClB9ForzuooB"
   },
   "outputs": [],
   "source": [
    "# 5. Define Loss Function, Optimizer, and Accuracy\n",
    "def loss_function(logits, labels):\n",
    "    \"\"\"Defines the cross-entropy loss.\"\"\"\n",
    "    return tf.reduce_mean(tf.nn.softmax_cross_entropy_with_logits(logits=logits, labels=labels))\n",
    "\n"
   ]
  },
  {
   "cell_type": "code",
   "execution_count": null,
   "metadata": {
    "id": "bWkHu0UfuulV"
   },
   "outputs": [],
   "source": [
    "def accuracy(logits, labels):\n",
    "    \"\"\"Calculates the accuracy.\"\"\"\n",
    "    predictions = tf.argmax(logits, 1)\n",
    "    true_labels = tf.argmax(labels, 1)\n",
    "    correct_predictions = tf.equal(predictions, true_labels)\n",
    "    return tf.reduce_mean(tf.cast(correct_predictions, tf.float32))\n",
    "\n"
   ]
  },
  {
   "cell_type": "code",
   "execution_count": null,
   "metadata": {
    "id": "54ED_2D7uym9"
   },
   "outputs": [],
   "source": [
    "# 6. Training Loop\n",
    "def train(x_train, y_train, x_test, y_test, W_conv1, b_conv1, W_conv2, b_conv2, W_fc1, b_fc1, W_fc2, b_fc2):\n",
    "    \"\"\"Train the model and evaluate it.\"\"\"\n",
    "    num_batches = len(x_train) // BATCH_SIZE\n",
    "\n",
    "    for epoch in range(EPOCHS):\n",
    "        for batch in range(num_batches):\n",
    "            batch_x = x_train[batch * BATCH_SIZE : (batch + 1) * BATCH_SIZE]\n",
    "            batch_y = y_train[batch * BATCH_SIZE : (batch + 1) * BATCH_SIZE]\n",
    "\n",
    "            # Calculate loss and apply gradients\n",
    "            with tf.GradientTape() as tape:\n",
    "                logits = cnn_model(batch_x, W_conv1, b_conv1, W_conv2, b_conv2, W_fc1, b_fc1, W_fc2, b_fc2)\n",
    "                loss = loss_function(logits, batch_y)\n",
    "\n",
    "            # Apply gradients\n",
    "            grads = tape.gradient(loss, [W_conv1, b_conv1, W_conv2, b_conv2, W_fc1, b_fc1, W_fc2, b_fc2])\n",
    "            tf.optimizers.Adam(learning_rate=LEARNING_RATE).apply_gradients(zip(grads, [W_conv1, b_conv1, W_conv2, b_conv2, W_fc1, b_fc1, W_fc2, b_fc2]))\n",
    "\n",
    "        # Evaluate on validation set after each epoch\n",
    "        logits = cnn_model(x_test, W_conv1, b_conv1, W_conv2, b_conv2, W_fc1, b_fc1, W_fc2, b_fc2)\n",
    "        acc = accuracy(logits, y_test)\n",
    "        print(f\"Epoch: {epoch+1}/{EPOCHS}, Validation Accuracy: {acc:.4f}\")\n",
    "\n"
   ]
  },
  {
   "cell_type": "code",
   "execution_count": null,
   "metadata": {
    "colab": {
     "base_uri": "https://localhost:8080/"
    },
    "id": "drl4teG3u6l2",
    "outputId": "0b02ef6a-137c-4587-eaa2-7ffc44a33f1f"
   },
   "outputs": [
    {
     "name": "stdout",
     "output_type": "stream",
     "text": [
      "Epoch: 1/10, Validation Accuracy: 0.9669\n",
      "Epoch: 2/10, Validation Accuracy: 0.9810\n",
      "Epoch: 3/10, Validation Accuracy: 0.9837\n",
      "Epoch: 4/10, Validation Accuracy: 0.9831\n",
      "Epoch: 5/10, Validation Accuracy: 0.9841\n",
      "Epoch: 6/10, Validation Accuracy: 0.9840\n",
      "Epoch: 7/10, Validation Accuracy: 0.9869\n",
      "Epoch: 8/10, Validation Accuracy: 0.9861\n",
      "Epoch: 9/10, Validation Accuracy: 0.9883\n",
      "Epoch: 10/10, Validation Accuracy: 0.9892\n",
      "Test Accuracy: 0.9892\n"
     ]
    }
   ],
   "source": [
    "# 7. Test the Model (Evaluation on Test Set)\n",
    "def test_model(x_test, y_test, W_conv1, b_conv1, W_conv2, b_conv2, W_fc1, b_fc1, W_fc2, b_fc2):\n",
    "    \"\"\"Evaluates the model on the test dataset.\"\"\"\n",
    "    logits = cnn_model(x_test, W_conv1, b_conv1, W_conv2, b_conv2, W_fc1, b_fc1, W_fc2, b_fc2)\n",
    "    acc = accuracy(logits, y_test)\n",
    "    print(f\"Test Accuracy: {acc:.4f}\")\n",
    "\n",
    "\n",
    "# --- Main Execution ----\n",
    "if __name__ == \"__main__\":\n",
    "    # Load and preprocess data\n",
    "    x_train, y_train, x_test, y_test = load_mnist()\n",
    "\n",
    "    # Initialize model parameters\n",
    "    W_conv1, b_conv1, W_conv2, b_conv2, W_fc1, b_fc1, W_fc2, b_fc2 = initialize_weights_and_biases()\n",
    "\n",
    "    # Train the model\n",
    "    train(x_train, y_train, x_test, y_test, W_conv1, b_conv1, W_conv2, b_conv2, W_fc1, b_fc1, W_fc2, b_fc2)\n",
    "\n",
    "    # Test the model after training\n",
    "    test_model(x_test, y_test, W_conv1, b_conv1, W_conv2, b_conv2, W_fc1, b_fc1, W_fc2, b_fc2)\n"
   ]
  },
  {
   "cell_type": "code",
   "execution_count": null,
   "metadata": {
    "colab": {
     "base_uri": "https://localhost:8080/",
     "height": 92
    },
    "id": "EPFHcdJT2FjX",
    "outputId": "7ea35c80-d66e-4e6f-c6db-4bf45dd4febb"
   },
   "outputs": [
    {
     "data": {
      "text/html": [
       "\n",
       "     <input type=\"file\" id=\"files-9dc79e07-0792-4476-b376-40f16c0abb8e\" name=\"files[]\" multiple disabled\n",
       "        style=\"border:none\" />\n",
       "     <output id=\"result-9dc79e07-0792-4476-b376-40f16c0abb8e\">\n",
       "      Upload widget is only available when the cell has been executed in the\n",
       "      current browser session. Please rerun this cell to enable.\n",
       "      </output>\n",
       "      <script>// Copyright 2017 Google LLC\n",
       "//\n",
       "// Licensed under the Apache License, Version 2.0 (the \"License\");\n",
       "// you may not use this file except in compliance with the License.\n",
       "// You may obtain a copy of the License at\n",
       "//\n",
       "//      http://www.apache.org/licenses/LICENSE-2.0\n",
       "//\n",
       "// Unless required by applicable law or agreed to in writing, software\n",
       "// distributed under the License is distributed on an \"AS IS\" BASIS,\n",
       "// WITHOUT WARRANTIES OR CONDITIONS OF ANY KIND, either express or implied.\n",
       "// See the License for the specific language governing permissions and\n",
       "// limitations under the License.\n",
       "\n",
       "/**\n",
       " * @fileoverview Helpers for google.colab Python module.\n",
       " */\n",
       "(function(scope) {\n",
       "function span(text, styleAttributes = {}) {\n",
       "  const element = document.createElement('span');\n",
       "  element.textContent = text;\n",
       "  for (const key of Object.keys(styleAttributes)) {\n",
       "    element.style[key] = styleAttributes[key];\n",
       "  }\n",
       "  return element;\n",
       "}\n",
       "\n",
       "// Max number of bytes which will be uploaded at a time.\n",
       "const MAX_PAYLOAD_SIZE = 100 * 1024;\n",
       "\n",
       "function _uploadFiles(inputId, outputId) {\n",
       "  const steps = uploadFilesStep(inputId, outputId);\n",
       "  const outputElement = document.getElementById(outputId);\n",
       "  // Cache steps on the outputElement to make it available for the next call\n",
       "  // to uploadFilesContinue from Python.\n",
       "  outputElement.steps = steps;\n",
       "\n",
       "  return _uploadFilesContinue(outputId);\n",
       "}\n",
       "\n",
       "// This is roughly an async generator (not supported in the browser yet),\n",
       "// where there are multiple asynchronous steps and the Python side is going\n",
       "// to poll for completion of each step.\n",
       "// This uses a Promise to block the python side on completion of each step,\n",
       "// then passes the result of the previous step as the input to the next step.\n",
       "function _uploadFilesContinue(outputId) {\n",
       "  const outputElement = document.getElementById(outputId);\n",
       "  const steps = outputElement.steps;\n",
       "\n",
       "  const next = steps.next(outputElement.lastPromiseValue);\n",
       "  return Promise.resolve(next.value.promise).then((value) => {\n",
       "    // Cache the last promise value to make it available to the next\n",
       "    // step of the generator.\n",
       "    outputElement.lastPromiseValue = value;\n",
       "    return next.value.response;\n",
       "  });\n",
       "}\n",
       "\n",
       "/**\n",
       " * Generator function which is called between each async step of the upload\n",
       " * process.\n",
       " * @param {string} inputId Element ID of the input file picker element.\n",
       " * @param {string} outputId Element ID of the output display.\n",
       " * @return {!Iterable<!Object>} Iterable of next steps.\n",
       " */\n",
       "function* uploadFilesStep(inputId, outputId) {\n",
       "  const inputElement = document.getElementById(inputId);\n",
       "  inputElement.disabled = false;\n",
       "\n",
       "  const outputElement = document.getElementById(outputId);\n",
       "  outputElement.innerHTML = '';\n",
       "\n",
       "  const pickedPromise = new Promise((resolve) => {\n",
       "    inputElement.addEventListener('change', (e) => {\n",
       "      resolve(e.target.files);\n",
       "    });\n",
       "  });\n",
       "\n",
       "  const cancel = document.createElement('button');\n",
       "  inputElement.parentElement.appendChild(cancel);\n",
       "  cancel.textContent = 'Cancel upload';\n",
       "  const cancelPromise = new Promise((resolve) => {\n",
       "    cancel.onclick = () => {\n",
       "      resolve(null);\n",
       "    };\n",
       "  });\n",
       "\n",
       "  // Wait for the user to pick the files.\n",
       "  const files = yield {\n",
       "    promise: Promise.race([pickedPromise, cancelPromise]),\n",
       "    response: {\n",
       "      action: 'starting',\n",
       "    }\n",
       "  };\n",
       "\n",
       "  cancel.remove();\n",
       "\n",
       "  // Disable the input element since further picks are not allowed.\n",
       "  inputElement.disabled = true;\n",
       "\n",
       "  if (!files) {\n",
       "    return {\n",
       "      response: {\n",
       "        action: 'complete',\n",
       "      }\n",
       "    };\n",
       "  }\n",
       "\n",
       "  for (const file of files) {\n",
       "    const li = document.createElement('li');\n",
       "    li.append(span(file.name, {fontWeight: 'bold'}));\n",
       "    li.append(span(\n",
       "        `(${file.type || 'n/a'}) - ${file.size} bytes, ` +\n",
       "        `last modified: ${\n",
       "            file.lastModifiedDate ? file.lastModifiedDate.toLocaleDateString() :\n",
       "                                    'n/a'} - `));\n",
       "    const percent = span('0% done');\n",
       "    li.appendChild(percent);\n",
       "\n",
       "    outputElement.appendChild(li);\n",
       "\n",
       "    const fileDataPromise = new Promise((resolve) => {\n",
       "      const reader = new FileReader();\n",
       "      reader.onload = (e) => {\n",
       "        resolve(e.target.result);\n",
       "      };\n",
       "      reader.readAsArrayBuffer(file);\n",
       "    });\n",
       "    // Wait for the data to be ready.\n",
       "    let fileData = yield {\n",
       "      promise: fileDataPromise,\n",
       "      response: {\n",
       "        action: 'continue',\n",
       "      }\n",
       "    };\n",
       "\n",
       "    // Use a chunked sending to avoid message size limits. See b/62115660.\n",
       "    let position = 0;\n",
       "    do {\n",
       "      const length = Math.min(fileData.byteLength - position, MAX_PAYLOAD_SIZE);\n",
       "      const chunk = new Uint8Array(fileData, position, length);\n",
       "      position += length;\n",
       "\n",
       "      const base64 = btoa(String.fromCharCode.apply(null, chunk));\n",
       "      yield {\n",
       "        response: {\n",
       "          action: 'append',\n",
       "          file: file.name,\n",
       "          data: base64,\n",
       "        },\n",
       "      };\n",
       "\n",
       "      let percentDone = fileData.byteLength === 0 ?\n",
       "          100 :\n",
       "          Math.round((position / fileData.byteLength) * 100);\n",
       "      percent.textContent = `${percentDone}% done`;\n",
       "\n",
       "    } while (position < fileData.byteLength);\n",
       "  }\n",
       "\n",
       "  // All done.\n",
       "  yield {\n",
       "    response: {\n",
       "      action: 'complete',\n",
       "    }\n",
       "  };\n",
       "}\n",
       "\n",
       "scope.google = scope.google || {};\n",
       "scope.google.colab = scope.google.colab || {};\n",
       "scope.google.colab._files = {\n",
       "  _uploadFiles,\n",
       "  _uploadFilesContinue,\n",
       "};\n",
       "})(self);\n",
       "</script> "
      ],
      "text/plain": [
       "<IPython.core.display.HTML object>"
      ]
     },
     "metadata": {},
     "output_type": "display_data"
    },
    {
     "name": "stdout",
     "output_type": "stream",
     "text": [
      "Saving images.png to images.png\n",
      "Uploaded image path: images.png\n"
     ]
    }
   ],
   "source": [
    "from google.colab import files\n",
    "\n",
    "# Upload an image\n",
    "uploaded = files.upload()\n",
    "\n",
    "# The image file will be saved in the Colab environment\n",
    "# Check the uploaded file's name\n",
    "image_path = list(uploaded.keys())[0]\n",
    "print(f\"Uploaded image path: {image_path}\")\n"
   ]
  },
  {
   "cell_type": "code",
   "execution_count": null,
   "metadata": {
    "colab": {
     "base_uri": "https://localhost:8080/",
     "height": 469
    },
    "id": "pmp-V1Na2HZK",
    "outputId": "a7edc2e4-3c47-4c7e-d0cb-6cf025579bc6"
   },
   "outputs": [
    {
     "data": {
      "image/png": "[encoded data removed]",
      "text/plain": [
       "<Figure size 640x480 with 1 Axes>"
      ]
     },
     "metadata": {},
     "output_type": "display_data"
    },
    {
     "name": "stdout",
     "output_type": "stream",
     "text": [
      "Predicted digit: 3\n"
     ]
    }
   ],
   "source": [
    "from tensorflow.keras.preprocessing import image\n",
    "import matplotlib.pyplot as plt\n",
    "\n",
    "# Function to preprocess and predict the image\n",
    "def predict_image(image_path, W_conv1, b_conv1, W_conv2, b_conv2, W_fc1, b_fc1, W_fc2, b_fc2):\n",
    "    # Load the image and convert it to grayscale\n",
    "    img = image.load_img(image_path, target_size=(28, 28), color_mode='grayscale')\n",
    "\n",
    "    # Convert the image to a numpy array and normalize it\n",
    "    img_array = image.img_to_array(img) / 255.0  # Normalize the image to [0, 1]\n",
    "\n",
    "    # Expand dimensions to match the input shape of the model (batch_size, height, width, channels)\n",
    "    img_array = np.expand_dims(img_array, axis=0)  # Shape becomes (1, 28, 28, 1)\n",
    "\n",
    "    # Make predictions using the model\n",
    "    logits = cnn_model(img_array, W_conv1, b_conv1, W_conv2, b_conv2, W_fc1, b_fc1, W_fc2, b_fc2)\n",
    "\n",
    "    # Get the predicted class\n",
    "    predicted_class = tf.argmax(logits, axis=1).numpy()[0]\n",
    "\n",
    "    return predicted_class\n",
    "\n",
    "# Visualize the uploaded image\n",
    "img = image.load_img(\"images.png\", target_size=(28, 28), color_mode='grayscale')\n",
    "plt.imshow(img, cmap=\"gray\")\n",
    "plt.title(\"Uploaded Image\")\n",
    "plt.show()\n",
    "\n",
    "# Make a prediction for the uploaded image\n",
    "predicted_digit = predict_image(\"images.png\", W_conv1, b_conv1, W_conv2, b_conv2, W_fc1, b_fc1, W_fc2, b_fc2)\n",
    "print(f\"Predicted digit: {predicted_digit}\")\n"
   ]
  }
 ],
 "metadata": {
  "colab": {
   "provenance": []
  },
  "kernelspec": {
   "display_name": "Python 3 (ipykernel)",
   "language": "python",
   "name": "python3"
  },
  "language_info": {
   "codemirror_mode": {
    "name": "ipython",
    "version": 3
   },
   "file_extension": ".py",
   "mimetype": "text/x-python",
   "name": "python",
   "nbconvert_exporter": "python",
   "pygments_lexer": "ipython3",
   "version": "3.10.12"
  }
 },
 "nbformat": 4,
 "nbformat_minor": 4
}
